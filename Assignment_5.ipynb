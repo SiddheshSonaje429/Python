{
  "nbformat": 4,
  "nbformat_minor": 0,
  "metadata": {
    "colab": {
      "provenance": [],
      "authorship_tag": "ABX9TyOEz8qp3FyKuAn+89s0qI0x",
      "include_colab_link": true
    },
    "kernelspec": {
      "name": "python3",
      "display_name": "Python 3"
    },
    "language_info": {
      "name": "python"
    }
  },
  "cells": [
    {
      "cell_type": "markdown",
      "metadata": {
        "id": "view-in-github",
        "colab_type": "text"
      },
      "source": [
        "<a href=\"https://colab.research.google.com/github/SiddheshSonaje429/Python/blob/main/Assignment_5.ipynb\" target=\"_parent\"><img src=\"https://colab.research.google.com/assets/colab-badge.svg\" alt=\"Open In Colab\"/></a>"
      ]
    },
    {
      "cell_type": "code",
      "source": [
        "#SiddheshSonaje  22CV101\n",
        "# To find the ultimate moment carring capacity of singly r/f beam\n",
        "fck = float(input(\"Enter the value of charateristics compressive strength:\"))\n",
        "fy= float(input(\"Enter the grade of steel:\"))\n",
        "Es = float(input(\"Enter the value of Modulus of Elasticity of steel:\"))\n",
        "b= float(input(\"Enter the value of Width: \"))\n",
        "d= float(input(\"Enter the value of effective depth:\"))\n",
        "d1 = float(input(\"Enter the value of bar diameter (d1):\"))\n",
        "d2 = float(input(\"Enter the value of bar diameter (d2):\"))\n",
        "n=int(input(\"Enter the number of bars\"))\n",
        "Ast1= (n*0.7854*d1*d1)\n",
        "Ast2= (n*0.7854*d2*d2)\n",
        "print(\"The value of area of steel (Ast1):\", Ast1)\n",
        "print(\"The vaiue of area of steel (Ast2):\", Ast2)\n",
        "# Total area of steel\n",
        "Ast = Ast1 + Ast2\n",
        "print (\"The value of area of steel (Ast):\", Ast)\n",
        "# Neutral Axis Factor\n",
        "ku = 0.0035/(0.0055 + (fy/(1.15*Es)))\n",
        "print (\"The value of Neutral axis factor (ku):\", ku)\n",
        "# Momenent of Resistance factor\n",
        "Ru= 0.36*fck*ku*(1-(0.42*ku))\n",
        "print(\"The value of Moment of Resistance factor (Ru):\", Ru)\n",
        "# Maximum Neutral Axis:\n",
        "xumax = ku*d\n",
        "print(\"The value of maximum neutral axis (xumax):\", xumax)\n",
        "xu = (0.87 *fy*Ast)/(0.36*fck*b)\n",
        "print (\"The value of Actual Neutral Axis (xu):\", xu)\n",
        "if xumax>xu:\n",
        "    print(\"UNDER REINFORCED\")\n",
        "else:\n",
        "    print(\"OVER REINFORCED\")\n",
        "# By Comparing\n",
        "X = float(input(\"Enter the value of Neutral Axis:\"))\n",
        "# Moment of Resistance\n",
        "Mu = 0.36*fck*X*b*(d-(0.42 *X)) * 10**-6\n",
        "print(\"The value of Moment of Resistance is:\", Mu)"
      ],
      "metadata": {
        "colab": {
          "base_uri": "https://localhost:8080/"
        },
        "id": "hwhj4fVbKWTK",
        "outputId": "a2c72f9a-d451-4322-cd05-f77cf5043631"
      },
      "execution_count": 2,
      "outputs": [
        {
          "output_type": "stream",
          "name": "stdout",
          "text": [
            "Enter the value of charateristics compressive strength:20\n",
            "Enter the grade of steel:415\n",
            "Enter the value of Modulus of Elasticity of steel:200000\n",
            "Enter the value of Width: 230\n",
            "Enter the value of effective depth:400\n",
            "Enter the value of bar diameter (d1):20\n",
            "Enter the value of bar diameter (d2):16\n",
            "Enter the number of bars2\n",
            "The value of area of steel (Ast1): 628.32\n",
            "The vaiue of area of steel (Ast2): 402.1248\n",
            "The value of area of steel (Ast): 1030.4448\n",
            "The value of Neutral axis factor (ku): 0.4791666666666667\n",
            "The value of Moment of Resistance factor (Ru): 2.7556874999999996\n",
            "The value of maximum neutral axis (xumax): 191.66666666666669\n",
            "The value of Actual Neutral Axis (xu): 224.66310086956523\n",
            "OVER REINFORCED\n",
            "Enter the value of Neutral Axis:191.6\n",
            "The value of Moment of Resistance is: 101.38291130879998\n"
          ]
        }
      ]
    }
  ]
}