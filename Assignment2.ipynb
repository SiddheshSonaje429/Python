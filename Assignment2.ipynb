{
  "nbformat": 4,
  "nbformat_minor": 0,
  "metadata": {
    "colab": {
      "provenance": [],
      "authorship_tag": "ABX9TyPd8BVEfx8ku9wIJ2pWhIci",
      "include_colab_link": true
    },
    "kernelspec": {
      "name": "python3",
      "display_name": "Python 3"
    },
    "language_info": {
      "name": "python"
    }
  },
  "cells": [
    {
      "cell_type": "markdown",
      "metadata": {
        "id": "view-in-github",
        "colab_type": "text"
      },
      "source": [
        "<a href=\"https://colab.research.google.com/github/SiddheshSonaje429/Python/blob/main/Assignment2.ipynb\" target=\"_parent\"><img src=\"https://colab.research.google.com/assets/colab-badge.svg\" alt=\"Open In Colab\"/></a>"
      ]
    },
    {
      "cell_type": "code",
      "source": [
        "#Siddhesh Sonaje  22CV101\n",
        "# Calculation of total Infiltration by Horton's Equation\n",
        "fo = float(input(\"Enter the value of initial Infiltration Rate:\"))\n",
        "fc= float(input(\"Enter the value of Final infiltration Rate:\"))\n",
        "t= float(input(\"Enter the value of Time:\"))\n",
        "kh= float(input(\"Enter the value of Decay Coefficient:\"))\n",
        "# The total Infiltration is given by:\n",
        "Fp= fc*t+(fo-fc)/kh\n",
        "print(\"The value of Total Infiltration is:\", Fp)"
      ],
      "metadata": {
        "colab": {
          "base_uri": "https://localhost:8080/"
        },
        "id": "1T7xw1B9bDO6",
        "outputId": "75536324-4202-4d17-fad7-add40774a5ba"
      },
      "execution_count": 3,
      "outputs": [
        {
          "output_type": "stream",
          "name": "stdout",
          "text": [
            "Enter the value of initial Infiltration Rate:6\n",
            "Enter the value of Final infiltration Rate:1.2\n",
            "Enter the value of Time:8\n",
            "Enter the value of Decay Coefficient:0.88\n",
            "The value of Total Infiltration is: 15.054545454545455\n"
          ]
        }
      ]
    },
    {
      "cell_type": "code",
      "source": [
        "#Calculation of Mean precipitation by theissen's polygon Method\n",
        "#The value of precipitation at Each station is\n",
        "p1=float(input(\"Enter the value of rainfall at Station 1:\"))\n",
        "p2= float(input(\"Enter the value of rainfall at Station 2:\"))\n",
        "p3 =float(input(\"Enter the value of rainfall at Station 3:\"))\n",
        "p4 =float(input(\"Enter the value of rainfall at Station 4:\"))\n",
        "p5 =float(input(\"Enter the value of rainfall at Station 5:\"))\n",
        "#Area for each station\n",
        "A1= float(input(\"Enter the value of Catchment Area for raingauge station 1:\"))\n",
        "A2= float(input(\"Enter the value of Catchment Area for raingauge station 2:\"))\n",
        "A3 =float(input(\"Enter the value of Catchment Area for raingauge station 3:\"))\n",
        "A4=float(input(\"Enter the value of Catchment Area for raingauge station 4:\"))\n",
        "A5= float(input(\"Enter the value of Catchment Area for raingauge station 5:\"))\n",
        "#The total catchment area is\n",
        "A=A1 + A2 + A3 + A4+ A5\n",
        "print(\"The value of Total Catchment area is:\", A)\n",
        "# Runoff Volume\n",
        "#The volume shall be multiplied by the coefficient 2500 to cater scale effects\n",
        "#Runoff Volume\n",
        "V= (p1* A1+ p2* A2+ p3* A3+ p4 *A4+p5* A5)*2500\n",
        "print(\"The runoff volume from the given catchment is:\", V)\n",
        "#Mean Precipitation\n",
        "p=(p1* A1+ p2* A2 + p3* A3+ p4*A4+ p5* A5)/A\n",
        "print (\"The value of Mean Precipitalon is:\", p)"
      ],
      "metadata": {
        "colab": {
          "base_uri": "https://localhost:8080/"
        },
        "id": "plOi1GaRbddK",
        "outputId": "8a4e1e52-1ff0-449a-8225-d1c8226cc1c4"
      },
      "execution_count": 4,
      "outputs": [
        {
          "output_type": "stream",
          "name": "stdout",
          "text": [
            "Enter the value of rainfall at Station 1:1.25\n",
            "Enter the value of rainfall at Station 2:1.75\n",
            "Enter the value of rainfall at Station 3:225\n",
            "Enter the value of rainfall at Station 4:275\n",
            "Enter the value of rainfall at Station 5:325\n",
            "Enter the value of Catchment Area for raingauge station 1:100\n",
            "Enter the value of Catchment Area for raingauge station 2:100\n",
            "Enter the value of Catchment Area for raingauge station 3:150\n",
            "Enter the value of Catchment Area for raingauge station 4:200\n",
            "Enter the value of Catchment Area for raingauge station 5:500\n",
            "The value of Total Catchment area is: 1050.0\n",
            "The runoff volume from the given catchment is: 628875000.0\n",
            "The value of Mean Precipitalon is: 239.57142857142858\n"
          ]
        }
      ]
    }
  ]
}