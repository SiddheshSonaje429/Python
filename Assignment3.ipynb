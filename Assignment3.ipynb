{
  "nbformat": 4,
  "nbformat_minor": 0,
  "metadata": {
    "colab": {
      "provenance": [],
      "authorship_tag": "ABX9TyMan0RQbiGSCvPR2ZQWuqbh",
      "include_colab_link": true
    },
    "kernelspec": {
      "name": "python3",
      "display_name": "Python 3"
    },
    "language_info": {
      "name": "python"
    }
  },
  "cells": [
    {
      "cell_type": "markdown",
      "metadata": {
        "id": "view-in-github",
        "colab_type": "text"
      },
      "source": [
        "<a href=\"https://colab.research.google.com/github/SiddheshSonaje429/Python/blob/main/Assignment3.ipynb\" target=\"_parent\"><img src=\"https://colab.research.google.com/assets/colab-badge.svg\" alt=\"Open In Colab\"/></a>"
      ]
    },
    {
      "cell_type": "code",
      "source": [
        "#SIDDHESH SONAJE  22CV101\n",
        "#To Calculate the length of transition curve\n",
        "V= int(input(\"Enter the value of design speed: \"))\n",
        "R= int(input(\"Enter the value of Radius of curvature: \"))\n",
        "N= int(input(\"Enter the value of slope: \"))\n",
        "W= float(input(\"Enter the value of width of road including extra widening: \"))\n",
        "emax=float(input(\"'enter the value for plain terain:\"))\n",
        "ecal= (V*V/(225*R))\n",
        "print(\"The value of Super elevation:\",ecal)\n",
        "if ecal<emax:\n",
        "  print(ecal)\n",
        "else:\n",
        "  print(emax)\n",
        "Ls=(emax*N*W/2)\n",
        "print(\"The length of transition curve:\", Ls)\n",
        "\n"
      ],
      "metadata": {
        "colab": {
          "base_uri": "https://localhost:8080/"
        },
        "id": "fKFFE_9bcXIO",
        "outputId": "4e0f9bf4-0660-42d2-a1a9-98f4951773d0"
      },
      "execution_count": 5,
      "outputs": [
        {
          "output_type": "stream",
          "name": "stdout",
          "text": [
            "Enter the value of design speed: 65\n",
            "Enter the value of Radius of curvature: 220\n",
            "Enter the value of slope: 150\n",
            "Enter the value of width of road including extra widening: 7.5\n",
            "'enter the value for plain terain:0.07\n",
            "The value of Super elevation: 0.08535353535353535\n",
            "0.07\n",
            "The length of transition curve: 39.37500000000001\n"
          ]
        }
      ]
    },
    {
      "cell_type": "code",
      "source": [
        "#SIDDHESH SONAJE  22CV101\n",
        "P =float (input(\" Load in kg: \"))\n",
        "p =float (input (\" Tyre pressure kg/cm^2: \"))\n",
        "M = int (input (\"Total Number of layers in a given Pavement : \"))\n",
        "pi = 3.14159\n",
        "CBR = []\n",
        "for i in range (1, M+1):\n",
        "  print (\"California Bearing Ratio of Material in %\")\n",
        "  CBR_value = float (input ())\n",
        "  CBR. append (CBR_value)\n",
        "  T = ((1.75*P)/ (CBR_value) -(P/(p*pi)) ) **0.5\n",
        "  print (\"Thickness Above this layer: \", T, \"cm\")\n",
        "\n",
        "print (\"Given that bitumen layer of 4 cm\")\n"
      ],
      "metadata": {
        "colab": {
          "base_uri": "https://localhost:8080/"
        },
        "id": "3At9x0hLdNfh",
        "outputId": "181ea0f3-3c65-4ba5-c876-c4aed8647a59"
      },
      "execution_count": 6,
      "outputs": [
        {
          "output_type": "stream",
          "name": "stdout",
          "text": [
            " Load in kg: 4085\n",
            " Tyre pressure kg/cm^2: 7\n",
            "Total Number of layers in a given Pavement : 3\n",
            "California Bearing Ratio of Material in %\n",
            "4.38\n",
            "Thickness Above this layer:  38.031276487723645 cm\n",
            "California Bearing Ratio of Material in %\n",
            "6\n",
            "Thickness Above this layer:  31.712799015896838 cm\n",
            "California Bearing Ratio of Material in %\n",
            "6\n",
            "Thickness Above this layer:  31.712799015896838 cm\n",
            "Given that bitumen layer of 4 cm\n"
          ]
        }
      ]
    }
  ]
}