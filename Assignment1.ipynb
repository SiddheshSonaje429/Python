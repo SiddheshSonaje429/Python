{
  "nbformat": 4,
  "nbformat_minor": 0,
  "metadata": {
    "colab": {
      "provenance": [],
      "authorship_tag": "ABX9TyM6I2l+aueCteizg5VamhYR",
      "include_colab_link": true
    },
    "kernelspec": {
      "name": "python3",
      "display_name": "Python 3"
    },
    "language_info": {
      "name": "python"
    }
  },
  "cells": [
    {
      "cell_type": "markdown",
      "metadata": {
        "id": "view-in-github",
        "colab_type": "text"
      },
      "source": [
        "<a href=\"https://colab.research.google.com/github/SiddheshSonaje429/Python/blob/main/Assignment1.ipynb\" target=\"_parent\"><img src=\"https://colab.research.google.com/assets/colab-badge.svg\" alt=\"Open In Colab\"/></a>"
      ]
    },
    {
      "cell_type": "code",
      "execution_count": 1,
      "metadata": {
        "colab": {
          "base_uri": "https://localhost:8080/"
        },
        "id": "MIOmLhpBZp1x",
        "outputId": "8aac9f61-b5e6-4919-a277-aa20a3f2b979"
      },
      "outputs": [
        {
          "output_type": "stream",
          "name": "stdout",
          "text": [
            "Enter the value of Discharge:4.8\n",
            "Enter the value of top width:2\n",
            "Enter the value of acceleration due to Gravity:9.81\n",
            "enter the value of upstream depth:1.6\n",
            "Enter the Value of hump: 0.1\n",
            "The value of discharge per meter width is: 2.4\n",
            "The value of upstream area is: 3.2\n",
            "The value of Froude number is: 0.07167431192660548\n",
            "The flow is Sub Critical Flow\n",
            "The value of Energy at initial Section is: 1.714678899082569\n",
            "The value of downstream Energy E2 is: 1.614678899082569\n",
            "The Value of critical depth is: 0.8373856872261649\n",
            "The value of critical Energy is 1.2560785308392473\n",
            "SAFE\n",
            "The value of maximum hump is: 0.45860036824332173\n"
          ]
        }
      ],
      "source": [
        "#Siddhesh Sonaje\n",
        "#Roll No. 22CV101\n",
        "#Q1\n",
        "#To find the downstream depth of open channel\n",
        "# Given Data\n",
        "Q= float(input(\"Enter the value of Discharge:\"))\n",
        "T= int(input(\"Enter the value of top width:\"))\n",
        "g= float(input(\"Enter the value of acceleration due to Gravity:\"))\n",
        "y1 = float(input(\"enter the value of upstream depth:\"))\n",
        "Z= float(input(\"Enter the Value of hump: \"))\n",
        "# Dicharge per meter width\n",
        "q=Q/T\n",
        "print (\"The value of discharge per meter width is:\", q)\n",
        "# Area Calculation\n",
        "A1= T*y1\n",
        "print (\"The value of upstream area is:\", A1)\n",
        "# Calculation of Froude Number\n",
        "Fr1 = ((Q*Q*T)/(g*A1* A1 *A1)) *0.5\n",
        "print (\"The value of Froude number is:\", Fr1)\n",
        "if Fr1>1:\n",
        "  print(\"The flow is Super Critical Flow\")\n",
        "else:\n",
        "  print(\"The flow is Sub Critical Flow\")\n",
        "#Upstream Energy\n",
        "E1 = y1 + ((Q*Q)/(2 *g*A1 *A1))\n",
        "print(\"The value of Energy at initial Section is:\", E1)\n",
        "# Downstream Energy\n",
        "E2 = E1 -Z\n",
        "print(\"The value of downstream Energy E2 is:\", E2)\n",
        "# Critical Depth\n",
        "yc = (q*q/g)**0.3333\n",
        "print (\"The Value of critical depth is:\", yc)\n",
        "Ec = 1.5*yc\n",
        "print(\"The value of critical Energy is\", Ec)\n",
        "if Ec>E2:\n",
        "        print(\"Chocking Conditlon\")\n",
        "else:\n",
        "        print(\"SAFE\")\n",
        "# Calculation of Zmax\n",
        "Zmax = E1 - Ec\n",
        "print(\"The value of maximum hump is:\", Zmax)\n",
        ""
      ]
    },
    {
      "cell_type": "code",
      "source": [
        "#Q2\n",
        "# To find the downstream depth of open channel\n",
        "# Given Data\n",
        "Q= float(input(\"Enter the value of Discharge:\"))\n",
        "B1 = float(input(\"Enter the value of width at upstream: \"))\n",
        "B2 = float(input(\"Enter the value of width at downstream: \"))\n",
        "g= float(input(\"Enter the value of acceleration due to Gravity:\"))\n",
        "yl= float(input(\"enter the value of upstream depth:\"))\n",
        "# Dicharge per meter width\n",
        "ql= Q/B1\n",
        "q2= Q/B2\n",
        "print(\"The value of discharge per meter width is:'\", ql)\n",
        "print(\"The value of discharge per meter width is:\", q2)\n",
        "# Area Calculation\n",
        "A1 = B1*yl\n",
        "print (\"The value of upstream area is:\", A1)\n",
        "# Calculation of Froude Number\n",
        "Fr1 = ((Q*Q*B1)/(g*A1*A1*A1)) **0.5\n",
        "print(\"The value of Froude number is:\", Fr1)\n",
        "if Fr1>1:\n",
        "  print(\"The flow is Super Critical Flow\")\n",
        "else:\n",
        "  print(\"The flow is Sub Critical Flow\")\n",
        "# Upstream Energy\n",
        "E1 = yl + ((Q*Q)/(2*g*A1*A1))\n",
        "print(\"The value of Energy at initial Section is:\", E1)\n",
        "\n",
        "B2min = ((27*Q*Q)/(8*g*E1*E1*E1)) **0.5\n",
        "print(\"The value of minimum width to be kept to avoid Chocking is:\", B2min)\n",
        "if B2min > B2:\n",
        "  print(\"Chocking Condition\")\n",
        "else:\n",
        "  print(\"SAFE\")\n",
        "# Critical Depth\n",
        "yc = ((Q*Q)/(B2*B2*g)) **0.3333\n",
        "print (\"The Value of critical depth is: \", yc)\n",
        "Ec = 1.5*yc\n",
        "print(\"The value of critical Energy is\", Ec)"
      ],
      "metadata": {
        "colab": {
          "base_uri": "https://localhost:8080/"
        },
        "id": "GurFFm_Xan7l",
        "outputId": "1c6b8c08-c023-4e37-e33f-d7bb1afb3de5"
      },
      "execution_count": 2,
      "outputs": [
        {
          "output_type": "stream",
          "name": "stdout",
          "text": [
            "Enter the value of Discharge:4.8\n",
            "Enter the value of width at upstream: 2\n",
            "Enter the value of width at downstream: 2.5\n",
            "Enter the value of acceleration due to Gravity:9.81\n",
            "enter the value of upstream depth:2\n",
            "The value of discharge per meter width is:' 2.4\n",
            "The value of discharge per meter width is: 1.92\n",
            "The value of upstream area is: 4.0\n",
            "The value of Froude number is: 0.2709141845914385\n",
            "The flow is Sub Critical Flow\n",
            "The value of Energy at initial Section is: 2.073394495412844\n",
            "The value of minimum width to be kept to avoid Chocking is: 0.9430195807226381\n",
            "SAFE\n",
            "The Value of critical depth is:  0.7216478447228359\n",
            "The value of critical Energy is 1.0824717670842539\n"
          ]
        }
      ]
    }
  ]
}