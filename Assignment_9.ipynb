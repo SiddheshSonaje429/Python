{
  "nbformat": 4,
  "nbformat_minor": 0,
  "metadata": {
    "colab": {
      "provenance": [],
      "authorship_tag": "ABX9TyM2tJYQaCRsJvWmZOlOUJI+",
      "include_colab_link": true
    },
    "kernelspec": {
      "name": "python3",
      "display_name": "Python 3"
    },
    "language_info": {
      "name": "python"
    }
  },
  "cells": [
    {
      "cell_type": "markdown",
      "metadata": {
        "id": "view-in-github",
        "colab_type": "text"
      },
      "source": [
        "<a href=\"https://colab.research.google.com/github/SiddheshSonaje429/Python/blob/main/Assignment_9.ipynb\" target=\"_parent\"><img src=\"https://colab.research.google.com/assets/colab-badge.svg\" alt=\"Open In Colab\"/></a>"
      ]
    },
    {
      "cell_type": "code",
      "source": [
        "#SIDDHESH SONAJE 22CV101\n",
        "# To find Decay Coefficient at 25C\n",
        "K1 = float(input(\"Decay Coefficient at temperature T1: \"))\n",
        "T1 = float(input(\"Temperature of 3rd day BOD (T1): \"))\n",
        "T2 = float(input(\"Temperature for 7th day BOD (T2): \"))\n",
        "theta = 1.047\n",
        "K2 = K1 * (theta**(T2 - T1))\n",
        "print(f\"The value of K2 at {T2}°C is: {K2}\")\n",
        "# To find Ultimate BOD (Lo)\n",
        "Bt = float(input(\"BOD at time t: \"))\n",
        "t = float(input(\"Time in days for finding BOD (t): \"))\n",
        "K = float(input(\"Decay Coefficient (K) at the temperature of BOD measurement: \"))\n",
        "import math\n",
        "Lo = Bt / (1 - math.exp(-K * t))\n",
        "print(f\"The value of Ultimate BOD (Lo) is: {Lo}\")\n",
        "t1 = float(input(\"Time in days for finding BOD at time t1: \"))\n",
        "BOD_at_t1 = Lo * (1 - math.exp(-K * t1))\n",
        "print(f\"The value of BOD at time {t1} days is: {BOD_at_t1}\")\n",
        "\n"
      ],
      "metadata": {
        "colab": {
          "base_uri": "https://localhost:8080/"
        },
        "id": "c_iVRVqBNnMg",
        "outputId": "71fea376-3bec-4f29-9e11-b486cae248f4"
      },
      "execution_count": 9,
      "outputs": [
        {
          "output_type": "stream",
          "name": "stdout",
          "text": [
            "Decay Coefficient at temperature T1: 0.23\n",
            "Temperature of 3rd day BOD (T1): 20\n",
            "Temperature for 7th day BOD (T2): 25\n",
            "The value of K2 at 25.0°C is: 0.2893751572825015\n",
            "BOD at time t: 2.71\n",
            "Time in days for finding BOD (t): 50\n",
            "Decay Coefficient (K) at the temperature of BOD measurement: 3\n",
            "The value of Ultimate BOD (Lo) is: 2.71\n",
            "Time in days for finding BOD at time t1: 7\n",
            "The value of BOD at time 7.0 days is: 2.7099999979451264\n"
          ]
        }
      ]
    },
    {
      "cell_type": "code",
      "source": [
        "#SIDDHESH SONAJE 22CV101\n",
        "#Determination if density of sludge removed from aeration tank\n",
        "M= float(input(\"Enter the value of initial mass :\"))\n",
        "S=float(input(\"Enter the value of solid containing sludge in percentage:\"))\n",
        "Gs= float(input(\"Enterthe value of Specific gravity ofsludge solid:\"))\n",
        "Rho_W= float(input(\"Enter the value of density of water:\"))\n",
        "Ws = (S/M)*100\n",
        "m =M- Ws\n",
        "print(\"the value ofmass of water\", m)\n",
        "print(\"The value of Solid Content in sludge\", Ws)\n",
        "Vw =m /Rho_W\n",
        "print (\"The Value of Volume\", Vw)\n",
        "Rho_S =Gs * Rho_W\n",
        "print(\"The value ofDensity of solid content in sludge\", Rho_S)\n",
        "Vs=(Ws/(Gs*Rho_S ))\n",
        "print(\"The value of volume of solid content in sludge\", Vs)\n",
        "Vt= Vw + Vs\n",
        "print(\"The value of total volume of solid content in sludge\", Vt)\n",
        "Rho_SL= M/ Vt\n",
        "print(\"The value of Density of sludge removed from aeration\", Rho_SL)\n",
        "\n",
        "\n",
        "98\n",
        "\n",
        "\n"
      ],
      "metadata": {
        "colab": {
          "base_uri": "https://localhost:8080/"
        },
        "id": "D50j16oUN1oH",
        "outputId": "572bc192-4ee8-493e-e848-e22d8c51cbde"
      },
      "execution_count": 10,
      "outputs": [
        {
          "output_type": "stream",
          "name": "stdout",
          "text": [
            "Enter the value of initial mass :100\n",
            "Enter the value of solid containing sludge in percentage:2\n",
            "Enterthe value of Specific gravity ofsludge solid:2.2\n",
            "Enter the value of density of water:1000\n",
            "the value ofmass of water 98.0\n",
            "The value of Solid Content in sludge 2.0\n",
            "The Value of Volume 0.098\n",
            "The value ofDensity of solid content in sludge 2200.0\n",
            "The value of volume of solid content in sludge 0.00041322314049586776\n",
            "The value of total volume of solid content in sludge 0.09841322314049587\n",
            "The value of Density of sludge removed from aeration 1016.1236143768895\n"
          ]
        },
        {
          "output_type": "execute_result",
          "data": {
            "text/plain": [
              "98"
            ]
          },
          "metadata": {},
          "execution_count": 10
        }
      ]
    }
  ]
}